{
  "nbformat": 4,
  "nbformat_minor": 0,
  "metadata": {
    "colab": {
      "provenance": [],
      "authorship_tag": "ABX9TyPUl4Dlwt+FCtwh0/sRzi7W",
      "include_colab_link": true
    },
    "kernelspec": {
      "name": "python3",
      "display_name": "Python 3"
    },
    "language_info": {
      "name": "python"
    }
  },
  "cells": [
    {
      "cell_type": "markdown",
      "metadata": {
        "id": "view-in-github",
        "colab_type": "text"
      },
      "source": [
        "<a href=\"https://colab.research.google.com/github/PeixotoJr/APD/blob/main/par_impar.ipynb\" target=\"_parent\"><img src=\"https://colab.research.google.com/assets/colab-badge.svg\" alt=\"Open In Colab\"/></a>"
      ]
    },
    {
      "cell_type": "code",
      "execution_count": null,
      "metadata": {
        "colab": {
          "base_uri": "https://localhost:8080/"
        },
        "id": "RgTARwolmGQT",
        "outputId": "fa15aa95-ea36-473e-a8b5-e41ecdf5f274"
      },
      "outputs": [
        {
          "output_type": "stream",
          "name": "stdout",
          "text": [
            "digite um número:  8\n",
            "PAR\n"
          ]
        }
      ],
      "source": [
        "num = int(input(\"digite um número:  \"))\n",
        "if num % 2 == 0:\n",
        "  print('PAR')\n",
        "else:\n",
        "  print('IMPAR')"
      ]
    },
    {
      "cell_type": "code",
      "source": [],
      "metadata": {
        "id": "YwVyIy4Oma4f"
      },
      "execution_count": null,
      "outputs": []
    }
  ]
}